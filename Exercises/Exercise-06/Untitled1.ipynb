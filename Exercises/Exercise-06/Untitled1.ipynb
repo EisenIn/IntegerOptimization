{
 "cells": [
  {
   "cell_type": "code",
   "execution_count": 10,
   "id": "bae4cb0f",
   "metadata": {},
   "outputs": [],
   "source": [
    "A = Matrix([[1,0,0,0,-1],[1,1,0,0,1],[0,1,1,0,1],[0,0,1,1,1],[0,0,0,1,-1]])"
   ]
  },
  {
   "cell_type": "code",
   "execution_count": 11,
   "id": "42c47775",
   "metadata": {},
   "outputs": [
    {
     "data": {
      "text/plain": [
       "-3"
      ]
     },
     "execution_count": 11,
     "metadata": {},
     "output_type": "execute_result"
    }
   ],
   "source": [
    "A.determinant()"
   ]
  },
  {
   "cell_type": "code",
   "execution_count": null,
   "id": "eda6f2e9",
   "metadata": {},
   "outputs": [],
   "source": []
  }
 ],
 "metadata": {
  "kernelspec": {
   "display_name": "SageMath 9.5",
   "language": "sage",
   "name": "sagemath-9.5"
  },
  "language_info": {
   "codemirror_mode": {
    "name": "ipython",
    "version": 3
   },
   "file_extension": ".py",
   "mimetype": "text/x-python",
   "name": "python",
   "nbconvert_exporter": "python",
   "pygments_lexer": "ipython3",
   "version": "3.9.9"
  }
 },
 "nbformat": 4,
 "nbformat_minor": 5
}
