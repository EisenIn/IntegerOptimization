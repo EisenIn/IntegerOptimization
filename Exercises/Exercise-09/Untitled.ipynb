{
 "cells": [
  {
   "cell_type": "code",
   "execution_count": 8,
   "id": "c7f72fa1",
   "metadata": {},
   "outputs": [],
   "source": [
    "A = matrix([[0,-1],[1,0]])\n"
   ]
  },
  {
   "cell_type": "code",
   "execution_count": 9,
   "id": "16bb9dc5",
   "metadata": {},
   "outputs": [
    {
     "data": {
      "text/plain": [
       "[-1*I, 1*I]"
      ]
     },
     "execution_count": 9,
     "metadata": {},
     "output_type": "execute_result"
    }
   ],
   "source": [
    "A.eigenvalues()"
   ]
  },
  {
   "cell_type": "code",
   "execution_count": 15,
   "id": "dc39b0bc",
   "metadata": {},
   "outputs": [
    {
     "data": {
      "text/plain": [
       "[(-1*I, [(1, 1*I)], 1), (1*I, [(1, -1*I)], 1)]"
      ]
     },
     "execution_count": 15,
     "metadata": {},
     "output_type": "execute_result"
    }
   ],
   "source": [
    "(A.eigenvectors_right())"
   ]
  },
  {
   "cell_type": "code",
   "execution_count": null,
   "id": "d94d8dd2",
   "metadata": {},
   "outputs": [],
   "source": []
  }
 ],
 "metadata": {
  "kernelspec": {
   "display_name": "SageMath 9.5",
   "language": "sage",
   "name": "sagemath-9.5"
  },
  "language_info": {
   "codemirror_mode": {
    "name": "ipython",
    "version": 3
   },
   "file_extension": ".py",
   "mimetype": "text/x-python",
   "name": "python",
   "nbconvert_exporter": "python",
   "pygments_lexer": "ipython3",
   "version": "3.9.9"
  }
 },
 "nbformat": 4,
 "nbformat_minor": 5
}
