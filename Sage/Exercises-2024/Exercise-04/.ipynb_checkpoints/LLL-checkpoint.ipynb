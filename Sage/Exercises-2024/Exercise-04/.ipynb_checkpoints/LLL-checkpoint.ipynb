{
 "cells": [
  {
   "cell_type": "code",
   "execution_count": 94,
   "id": "f8adf2df-dd3b-4083-b7b1-452d1ad202f3",
   "metadata": {},
   "outputs": [],
   "source": [
    "A = matrix(QQ, [[ 1 , 2 , 3],[ 4 , 5 , 7],[ 6,  8 ,10]])\n",
    "B,R=A.gram_schmidt()"
   ]
  },
  {
   "cell_type": "code",
   "execution_count": 95,
   "id": "f441c892-7cea-48a2-980d-e10c8d43df39",
   "metadata": {},
   "outputs": [
    {
     "name": "stdout",
     "output_type": "stream",
     "text": [
      "[ 1  2  3]\n",
      "[ 4  5  7]\n",
      "[ 6  8 10]\n"
     ]
    }
   ],
   "source": [
    "print(A)"
   ]
  },
  {
   "cell_type": "code",
   "execution_count": 96,
   "id": "3368f4fc-082e-4796-9e99-3d622676cf89",
   "metadata": {},
   "outputs": [
    {
     "name": "stdout",
     "output_type": "stream",
     "text": [
      "[   1    0    0]\n",
      "[ 5/2    1    0]\n",
      "[26/7  8/5    1]\n"
     ]
    }
   ],
   "source": [
    "print(R)"
   ]
  },
  {
   "cell_type": "code",
   "execution_count": 97,
   "id": "a0e807b0-f546-45eb-8ea8-133bb8ff1bd5",
   "metadata": {},
   "outputs": [
    {
     "name": "stdout",
     "output_type": "stream",
     "text": [
      "[     1      2      3]\n",
      "[   3/2      0   -1/2]\n",
      "[ -4/35    4/7 -12/35]\n"
     ]
    }
   ],
   "source": [
    "print(B)"
   ]
  },
  {
   "cell_type": "code",
   "execution_count": 98,
   "id": "8faaf711-3e2c-416d-be2f-53707f9e7eb7",
   "metadata": {},
   "outputs": [
    {
     "name": "stdout",
     "output_type": "stream",
     "text": [
      "sqrt(5/2)\n",
      "4*sqrt(1/35)\n"
     ]
    }
   ],
   "source": [
    "print(B[1].norm())\n",
    "\n",
    "print(B[2].norm())"
   ]
  },
  {
   "cell_type": "code",
   "execution_count": 99,
   "id": "24c96dee-7e7e-4e99-8809-92d3b2140fa6",
   "metadata": {},
   "outputs": [],
   "source": [
    "U = identity_matrix(3)"
   ]
  },
  {
   "cell_type": "code",
   "execution_count": 100,
   "id": "78e622eb",
   "metadata": {},
   "outputs": [
    {
     "name": "stdout",
     "output_type": "stream",
     "text": [
      "[   1    0    0]\n",
      "[ 5/2    1    0]\n",
      "[-9/7 -2/5    1]\n"
     ]
    }
   ],
   "source": [
    "R.add_multiple_of_row(2,1,- 2) \n",
    "U.add_multiple_of_row(2,1,- 2) \n",
    "print(R)"
   ]
  },
  {
   "cell_type": "code",
   "execution_count": 101,
   "id": "50b3d551",
   "metadata": {},
   "outputs": [
    {
     "name": "stdout",
     "output_type": "stream",
     "text": [
      "[   1    0    0]\n",
      "[ 1/2    1    0]\n",
      "[-9/7 -2/5    1]\n"
     ]
    }
   ],
   "source": [
    "R.add_multiple_of_row(1,0,-2) \n",
    "U.add_multiple_of_row(1,0,-2) \n",
    "print(R)"
   ]
  },
  {
   "cell_type": "code",
   "execution_count": 102,
   "id": "4cbcf058",
   "metadata": {},
   "outputs": [
    {
     "name": "stdout",
     "output_type": "stream",
     "text": [
      "[   1    0    0]\n",
      "[ 1/2    1    0]\n",
      "[-2/7 -2/5    1]\n"
     ]
    }
   ],
   "source": [
    "R.add_multiple_of_row(2,0,1) \n",
    "U.add_multiple_of_row(2,0,1) \n",
    "print(R)"
   ]
  },
  {
   "cell_type": "code",
   "execution_count": 103,
   "id": "b574923e",
   "metadata": {},
   "outputs": [
    {
     "data": {
      "text/plain": [
       "[ 1  2  3]\n",
       "[ 2  1  1]\n",
       "[-1  0 -1]"
      ]
     },
     "execution_count": 103,
     "metadata": {},
     "output_type": "execute_result"
    }
   ],
   "source": [
    "R * B"
   ]
  },
  {
   "cell_type": "code",
   "execution_count": 104,
   "id": "d850f01c",
   "metadata": {},
   "outputs": [
    {
     "data": {
      "text/plain": [
       "[ 1  2  3]\n",
       "[ 2  1  1]\n",
       "[-1  0 -1]"
      ]
     },
     "execution_count": 104,
     "metadata": {},
     "output_type": "execute_result"
    }
   ],
   "source": [
    "U*A"
   ]
  },
  {
   "cell_type": "code",
   "execution_count": null,
   "id": "76640fd7",
   "metadata": {},
   "outputs": [],
   "source": []
  }
 ],
 "metadata": {
  "kernelspec": {
   "display_name": "SageMath 9.5",
   "language": "sage",
   "name": "sagemath-9.5"
  },
  "language_info": {
   "codemirror_mode": {
    "name": "ipython",
    "version": 3
   },
   "file_extension": ".py",
   "mimetype": "text/x-python",
   "name": "python",
   "nbconvert_exporter": "python",
   "pygments_lexer": "ipython3",
   "version": "3.9.9"
  }
 },
 "nbformat": 4,
 "nbformat_minor": 5
}
