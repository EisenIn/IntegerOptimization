{
 "cells": [
  {
   "cell_type": "code",
   "execution_count": 3,
   "id": "f8adf2df-dd3b-4083-b7b1-452d1ad202f3",
   "metadata": {},
   "outputs": [],
   "source": [
    "A = matrix(QQ, [[1, 2, 3], [4, 5, 6], [7, 8, 10]])\n",
    "B,R=A.gram_schmidt()\n"
   ]
  },
  {
   "cell_type": "code",
   "execution_count": 13,
   "id": "f441c892-7cea-48a2-980d-e10c8d43df39",
   "metadata": {},
   "outputs": [
    {
     "name": "stdout",
     "output_type": "stream",
     "text": [
      "\\left(\\begin{array}{rrr}\n",
      "1 & 4 & 7 \\\\\n",
      "2 & 5 & 8 \\\\\n",
      "3 & 6 & 10\n",
      "\\end{array}\\right)\n"
     ]
    }
   ],
   "source": [
    "print(latex(A.transpose()))"
   ]
  },
  {
   "cell_type": "code",
   "execution_count": 15,
   "id": "3368f4fc-082e-4796-9e99-3d622676cf89",
   "metadata": {},
   "outputs": [
    {
     "name": "stdout",
     "output_type": "stream",
     "text": [
      "\\left(\\begin{array}{rrr}\n",
      "1 & \\frac{16}{7} & \\frac{53}{14} \\\\\n",
      "0 & 1 & \\frac{16}{9} \\\\\n",
      "0 & 0 & 1\n",
      "\\end{array}\\right)\n"
     ]
    }
   ],
   "source": [
    "print(latex(R.transpose()))"
   ]
  },
  {
   "cell_type": "code",
   "execution_count": 16,
   "id": "a0e807b0-f546-45eb-8ea8-133bb8ff1bd5",
   "metadata": {},
   "outputs": [
    {
     "name": "stdout",
     "output_type": "stream",
     "text": [
      "\\left(\\begin{array}{rrr}\n",
      "1 & \\frac{12}{7} & \\frac{1}{6} \\\\\n",
      "2 & \\frac{3}{7} & -\\frac{1}{3} \\\\\n",
      "3 & -\\frac{6}{7} & \\frac{1}{6}\n",
      "\\end{array}\\right)\n"
     ]
    }
   ],
   "source": [
    "print(latex(B.transpose()))"
   ]
  },
  {
   "cell_type": "code",
   "execution_count": 8,
   "id": "8faaf711-3e2c-416d-be2f-53707f9e7eb7",
   "metadata": {},
   "outputs": [
    {
     "name": "stdout",
     "output_type": "stream",
     "text": [
      "3*sqrt(3/7)\n",
      "sqrt(1/6)\n"
     ]
    }
   ],
   "source": [
    "print(B[1].norm())\n",
    "print(B[2].norm())"
   ]
  },
  {
   "cell_type": "code",
   "execution_count": null,
   "id": "24c96dee-7e7e-4e99-8809-92d3b2140fa6",
   "metadata": {},
   "outputs": [],
   "source": []
  }
 ],
 "metadata": {
  "kernelspec": {
   "display_name": "SageMath 10.2",
   "language": "sage",
   "name": "sagemath"
  },
  "language_info": {
   "codemirror_mode": {
    "name": "ipython",
    "version": 3
   },
   "file_extension": ".py",
   "mimetype": "text/x-python",
   "name": "python",
   "nbconvert_exporter": "python",
   "pygments_lexer": "ipython3",
   "version": "3.11.1"
  }
 },
 "nbformat": 4,
 "nbformat_minor": 5
}
